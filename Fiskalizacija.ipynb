{
 "cells": [
  {
   "cell_type": "markdown",
   "id": "b1d8710d",
   "metadata": {},
   "source": [
    "# Elektronska fiskalizacija racuna"
   ]
  },
  {
   "cell_type": "markdown",
   "id": "53686b5e",
   "metadata": {},
   "source": [
    "### Priprema okruzenja"
   ]
  },
  {
   "cell_type": "markdown",
   "id": "62abec50",
   "metadata": {},
   "source": [
    "Run `pip install -r requirements.txt` to install: **jupyter**, **signxml**, **pycrypto**, **requests**, **pytz**, **xmltodict**, **pillow**, **qrcode**, **jinja2**"
   ]
  },
  {
   "cell_type": "code",
   "execution_count": 1,
   "id": "027d8a37",
   "metadata": {},
   "outputs": [],
   "source": [
    "# !pip install -r requirements.txt"
   ]
  },
  {
   "cell_type": "markdown",
   "id": "de1b9528",
   "metadata": {},
   "source": [
    "### Priprema sertifikata"
   ]
  },
  {
   "cell_type": "code",
   "execution_count": 2,
   "id": "8ef33bd5",
   "metadata": {},
   "outputs": [],
   "source": [
    "# Naziv fajla sertifikata\n",
    "pfx_cert = 'CoreitPecatSoft.pfx'\n",
    "# Lozinka sertifikata\n",
    "pfx_password = b'123456'"
   ]
  },
  {
   "cell_type": "markdown",
   "id": "b61b5e41",
   "metadata": {},
   "source": [
    "Ekstrakcija privatnog kljuca i sertifikata iz PFX kontejnera."
   ]
  },
  {
   "cell_type": "code",
   "execution_count": 3,
   "id": "d26625dd",
   "metadata": {},
   "outputs": [
    {
     "name": "stdout",
     "output_type": "stream",
     "text": [
      "Opening: CoreitPecatSoft.pfx\n",
      "Loading P12 (PFX) contents:\n",
      "Creating Private Key File: coreit.key\n",
      "Creating Certificate File: coreit_cert.pem\n",
      "Creating Certificate CA File: coreit_ca.pem\n"
     ]
    },
    {
     "name": "stderr",
     "output_type": "stream",
     "text": [
      "C:\\Users\\Djordje\\Anaconda3\\lib\\site-packages\\ipykernel_launcher.py:20: DeprecationWarning: PKCS#12 support in pyOpenSSL is deprecated. You should use the APIs in cryptography.\n"
     ]
    }
   ],
   "source": [
    "import OpenSSL.crypto\n",
    "import os\n",
    "\n",
    "def write_CAs(filename, p12):\n",
    "    if os.path.exists(filename):\n",
    "        os.remove(filename)\n",
    "    ca = p12.get_ca_certificates()\n",
    "    if ca is None:\n",
    "        return\n",
    "    print('Creating Certificate CA File:', filename)\n",
    "    with open(filename, 'wb') as f:\n",
    "        for cert in ca:\n",
    "            f.write(OpenSSL.crypto.dump_certificate(OpenSSL.crypto.FILETYPE_PEM, cert))\n",
    "\n",
    "def pfx_to_pem(pfx_path, pfx_password, pkey_path, pem_path, pem_ca_path):\n",
    "    print('Opening:', pfx_path)\n",
    "    with open(pfx_path, 'rb') as f_pfx:\n",
    "        pfx = f_pfx.read()\n",
    "    print('Loading P12 (PFX) contents:')\n",
    "    p12 = OpenSSL.crypto.load_pkcs12(pfx, pfx_password)\n",
    "    print('Creating Private Key File:', pkey_path)\n",
    "    with open(pkey_path, 'wb') as f:\n",
    "        f.write(OpenSSL.crypto.dump_privatekey(OpenSSL.crypto.FILETYPE_PEM, p12.get_privatekey()))\n",
    "    print('Creating Certificate File:', pem_path)\n",
    "    with open(pem_path, 'wb') as f:\n",
    "        f.write(OpenSSL.crypto.dump_certificate(OpenSSL.crypto.FILETYPE_PEM, p12.get_certificate()))\n",
    "    write_CAs(pem_ca_path, p12)\n",
    "\n",
    "pfx_to_pem(\n",
    "    pfx_cert,\n",
    "    pfx_password,\n",
    "    'coreit.key',      # Filename to write private key\n",
    "    'coreit_cert.pem', # Filename to write certificate\n",
    "    'coreit_ca.pem')   # Filename to write CAs if present"
   ]
  },
  {
   "cell_type": "markdown",
   "id": "c6fa78fd",
   "metadata": {},
   "source": [
    "### Priprema podataka"
   ]
  },
  {
   "cell_type": "markdown",
   "id": "72955276",
   "metadata": {},
   "source": [
    "#### Osnovni podaci poreskog obveznika"
   ]
  },
  {
   "cell_type": "code",
   "execution_count": 4,
   "id": "d9ac5d2d",
   "metadata": {},
   "outputs": [],
   "source": [
    "taxpayer = {\n",
    "    'tin': '12345678',  # Taxpayers tax identification number (PIB/JMB)\n",
    "    'bu': 'xx123xx123', # Business unit code (PJ)\n",
    "    'cr': 'si747we972', # ENU code\n",
    "    'sw': 'ss123ss123', # ENU software code\n",
    "    'op': 'oo123oo123'  # Operator code\n",
    "}"
   ]
  },
  {
   "cell_type": "markdown",
   "id": "2c415c03",
   "metadata": {},
   "source": [
    "#### Osnovni podaci fakture"
   ]
  },
  {
   "cell_type": "markdown",
   "id": "bed7fc9b",
   "metadata": {},
   "source": [
    "##### Zaglavlje"
   ]
  },
  {
   "cell_type": "code",
   "execution_count": 5,
   "id": "2d7773af",
   "metadata": {},
   "outputs": [],
   "source": [
    "invoice = {\n",
    "    'ord': '1', # Invoice ordinal number (1, 2, 3, 4, ...)\n",
    "    'prc': None # Total invoice price (bice rekalkulisano, mogu ostati nule)\n",
    "}"
   ]
  },
  {
   "cell_type": "markdown",
   "id": "e957f5c3",
   "metadata": {},
   "source": [
    "##### Stavke fakture"
   ]
  },
  {
   "cell_type": "code",
   "execution_count": 6,
   "id": "2ee63182",
   "metadata": {},
   "outputs": [],
   "source": [
    "# Deklarisanje tabele\n",
    "import pandas as pd\n",
    "pd.options.display.float_format = \"{:,.2f}\".format\n",
    "invoice_items = pd.DataFrame({\n",
    "    'N': [], # Name of item (goods or services)\n",
    "    'C': [], # Code of the item from the barcode or similar representation\n",
    "    'U': [], # Unit of measure\n",
    "    'Q': [], # Quantity\n",
    "    'UPB': [], # Unit price before VAT is applied\n",
    "    'UPA': [], # Unit price after VAT is applied\n",
    "    'R': [], # Percentage of the rebate\n",
    "    'RR': [], # Is rebate reducing tax base amount? (true)\n",
    "    'PB': [], # Total price of goods and services before the tax\n",
    "    'VR': [], # VAT Rate\n",
    "    'VA': [], # Amount of VAT for goods and services\n",
    "    'PA': [], # Price after applying VAT\n",
    "})\n",
    "\n",
    "# Dodavanje stavki\n",
    "invoice_items = invoice_items.append({\n",
    "    'N': 'Test artikal',\n",
    "    'C': '1234234',\n",
    "    'U': 'kom',\n",
    "    'Q': 1,\n",
    "    'UPB': 14.17,\n",
    "    'UPA': None,\n",
    "    'R': 15,\n",
    "    'RR': 'true',\n",
    "    'PB': None,\n",
    "    'VR': 21.00,\n",
    "    'VA': None,\n",
    "    'PA': None\n",
    "}, ignore_index=True)\n",
    "\n",
    "# Kalkulacija\n",
    "invoice_items['UPA'] = invoice_items['UPB'] * (1 + invoice_items['VR'] / 100)\n",
    "invoice_items['PB'] = invoice_items['UPB'] * invoice_items['Q']\n",
    "invoice_items['PA'] = invoice_items['UPA'] * invoice_items['Q']\n",
    "invoice_items['VA'] = invoice_items['PA'] - invoice_items['PB']\n",
    "\n",
    "invoice['prc'] = \"%.2f\" % invoice_items[['PA']].sum()[0]"
   ]
  },
  {
   "cell_type": "markdown",
   "id": "01395c51",
   "metadata": {},
   "source": [
    "##### Pregled stavki faktura"
   ]
  },
  {
   "cell_type": "code",
   "execution_count": 7,
   "id": "6634b238",
   "metadata": {},
   "outputs": [
    {
     "data": {
      "text/html": [
       "<div>\n",
       "<style scoped>\n",
       "    .dataframe tbody tr th:only-of-type {\n",
       "        vertical-align: middle;\n",
       "    }\n",
       "\n",
       "    .dataframe tbody tr th {\n",
       "        vertical-align: top;\n",
       "    }\n",
       "\n",
       "    .dataframe thead th {\n",
       "        text-align: right;\n",
       "    }\n",
       "</style>\n",
       "<table border=\"1\" class=\"dataframe\">\n",
       "  <thead>\n",
       "    <tr style=\"text-align: right;\">\n",
       "      <th></th>\n",
       "      <th>N</th>\n",
       "      <th>C</th>\n",
       "      <th>U</th>\n",
       "      <th>Q</th>\n",
       "      <th>UPB</th>\n",
       "      <th>UPA</th>\n",
       "      <th>R</th>\n",
       "      <th>RR</th>\n",
       "      <th>PB</th>\n",
       "      <th>VR</th>\n",
       "      <th>VA</th>\n",
       "      <th>PA</th>\n",
       "    </tr>\n",
       "  </thead>\n",
       "  <tbody>\n",
       "    <tr>\n",
       "      <th>0</th>\n",
       "      <td>Test artikal</td>\n",
       "      <td>1234234</td>\n",
       "      <td>kom</td>\n",
       "      <td>1.00</td>\n",
       "      <td>14.17</td>\n",
       "      <td>17.15</td>\n",
       "      <td>15.00</td>\n",
       "      <td>true</td>\n",
       "      <td>14.17</td>\n",
       "      <td>21.00</td>\n",
       "      <td>2.98</td>\n",
       "      <td>17.15</td>\n",
       "    </tr>\n",
       "  </tbody>\n",
       "</table>\n",
       "</div>"
      ],
      "text/plain": [
       "              N        C    U    Q   UPB   UPA     R    RR    PB    VR   VA  \\\n",
       "0  Test artikal  1234234  kom 1.00 14.17 17.15 15.00  true 14.17 21.00 2.98   \n",
       "\n",
       "     PA  \n",
       "0 17.15  "
      ]
     },
     "execution_count": 7,
     "metadata": {},
     "output_type": "execute_result"
    }
   ],
   "source": [
    "invoice_items"
   ]
  },
  {
   "cell_type": "markdown",
   "id": "f46f8df4",
   "metadata": {},
   "source": [
    "##### Rekapitulacija PDV-a"
   ]
  },
  {
   "cell_type": "code",
   "execution_count": 8,
   "id": "321cb5a4",
   "metadata": {},
   "outputs": [
    {
     "data": {
      "text/html": [
       "<div>\n",
       "<style scoped>\n",
       "    .dataframe tbody tr th:only-of-type {\n",
       "        vertical-align: middle;\n",
       "    }\n",
       "\n",
       "    .dataframe tbody tr th {\n",
       "        vertical-align: top;\n",
       "    }\n",
       "\n",
       "    .dataframe thead th {\n",
       "        text-align: right;\n",
       "    }\n",
       "</style>\n",
       "<table border=\"1\" class=\"dataframe\">\n",
       "  <thead>\n",
       "    <tr style=\"text-align: right;\">\n",
       "      <th></th>\n",
       "      <th>VATRate</th>\n",
       "      <th>NumOfItems</th>\n",
       "      <th>PriceBefVAT</th>\n",
       "      <th>VATAmt</th>\n",
       "    </tr>\n",
       "  </thead>\n",
       "  <tbody>\n",
       "    <tr>\n",
       "      <th>0</th>\n",
       "      <td>21.00</td>\n",
       "      <td>1</td>\n",
       "      <td>14.17</td>\n",
       "      <td>2.98</td>\n",
       "    </tr>\n",
       "  </tbody>\n",
       "</table>\n",
       "</div>"
      ],
      "text/plain": [
       "   VATRate  NumOfItems  PriceBefVAT  VATAmt\n",
       "0    21.00           1        14.17    2.98"
      ]
     },
     "execution_count": 8,
     "metadata": {},
     "output_type": "execute_result"
    }
   ],
   "source": [
    "taxes = invoice_items.groupby(['VR']).agg(NumOfItems = ('N', 'count'), PriceBefVAT = ('PB', 'sum'), VATAmt = ('VA', 'sum')).reset_index()\n",
    "taxes.rename(columns={'VR': 'VATRate'}, inplace=True)\n",
    "taxes"
   ]
  },
  {
   "cell_type": "markdown",
   "id": "e1e01589",
   "metadata": {},
   "source": [
    "## Fiskalizacija"
   ]
  },
  {
   "cell_type": "markdown",
   "id": "72bb7aa4",
   "metadata": {},
   "source": [
    "#### Generisanje UUID-a (jedinstvenog ID-a)"
   ]
  },
  {
   "cell_type": "code",
   "execution_count": 9,
   "id": "7c3306d9",
   "metadata": {},
   "outputs": [
    {
     "data": {
      "text/plain": [
       "'f223ea2c-eb26-4f61-a264-b8a47779e250'"
      ]
     },
     "execution_count": 9,
     "metadata": {},
     "output_type": "execute_result"
    }
   ],
   "source": [
    "import uuid\n",
    "fresh_uuid = str(uuid.uuid4())\n",
    "fresh_uuid"
   ]
  },
  {
   "cell_type": "markdown",
   "id": "793a8cb1",
   "metadata": {},
   "source": [
    "#### Odredjivanje datuma i vremena"
   ]
  },
  {
   "cell_type": "code",
   "execution_count": 10,
   "id": "42837824",
   "metadata": {},
   "outputs": [
    {
     "data": {
      "text/plain": [
       "'2021-10-13T14:22:13+02:00'"
      ]
     },
     "execution_count": 10,
     "metadata": {},
     "output_type": "execute_result"
    }
   ],
   "source": [
    "from datetime import datetime\n",
    "import pytz\n",
    "\n",
    "current_time = datetime.now(pytz.timezone('Europe/Podgorica')).strftime('%Y-%m-%dT%H:%M:%S%z')\n",
    "current_time = \"{0}:{1}\".format(current_time[:-2], current_time[-2:])\n",
    "current_time"
   ]
  },
  {
   "cell_type": "markdown",
   "id": "7bdde33b",
   "metadata": {},
   "source": [
    "#### Generisanje IKOF-a"
   ]
  },
  {
   "cell_type": "code",
   "execution_count": 11,
   "id": "47c07fa0",
   "metadata": {},
   "outputs": [
    {
     "name": "stdout",
     "output_type": "stream",
     "text": [
      "IKOF data element: 12345678|2021-10-13T14:22:13+02:00|1|xx123xx123|si747we972|ss123ss123|17.15\n",
      "IKOF: f108325b48e89a416d69a551f1c3ff34\n"
     ]
    }
   ],
   "source": [
    "import hashlib\n",
    "import sys\n",
    "import time\n",
    "\n",
    "from Crypto.PublicKey import RSA\n",
    "from Crypto.Cipher import PKCS1_v1_5 as Cipher_PKCS1_v1_5\n",
    "from Crypto.Signature import PKCS1_v1_5\n",
    "from base64 import b64decode, b64encode\n",
    "from Crypto.Hash import SHA256\n",
    "\n",
    "if sys.version_info >= (3, 8):\n",
    "    time.clock = time.process_time\n",
    "\n",
    "def generate_iis(data, private_key_path):\n",
    "    print('IKOF data element:', data)\n",
    "    message = bytes(data, 'utf8')\n",
    "    digest = SHA256.new()\n",
    "    digest.update(message)    \n",
    "    private_key = False\n",
    "    with open(private_key_path, \"r\") as key_file:\n",
    "        private_key = RSA.importKey(key_file.read())\n",
    "    signer = PKCS1_v1_5.new(private_key)\n",
    "    sig = signer.sign(digest)\n",
    "    iic = hashlib.md5(sig).digest()\n",
    "    \n",
    "    return (sig.hex(), iic.hex())\n",
    "\n",
    "(iic, ikof) = generate_iis(\n",
    "    \"{tin}|{current_time}|{no}|{bu}|{cr}|{sw}|{prc}\".format(\n",
    "        tin = taxpayer['tin'],\n",
    "        current_time = current_time,\n",
    "        no = invoice['ord'],\n",
    "        bu = taxpayer['bu'],\n",
    "        cr = taxpayer['cr'],\n",
    "        sw = taxpayer['sw'],\n",
    "        prc = invoice['prc']\n",
    "    ),\n",
    "    'coreit.key'\n",
    ")\n",
    "print(\"IKOF:\", ikof)"
   ]
  },
  {
   "cell_type": "markdown",
   "id": "d2a7ffc4",
   "metadata": {},
   "source": [
    "### Priprema XML-a"
   ]
  },
  {
   "cell_type": "markdown",
   "id": "a8efce38",
   "metadata": {},
   "source": [
    "#### Priprema XML objekta i parsiranje XML sadrzaja"
   ]
  },
  {
   "cell_type": "code",
   "execution_count": 12,
   "id": "bf61b8df",
   "metadata": {},
   "outputs": [],
   "source": [
    "# Priprema niza Invoice Items za umetanje u XML\n",
    "ii = invoice_items.rename(columns = lambda x: '@' + x)\n",
    "ii = ii.to_dict('records')\n",
    "tx = taxes.rename(columns = lambda x: '@' + x)\n",
    "tx = tx.to_dict('records')\n",
    "for item in ii:\n",
    "    item['@Q'] = '{:.2f}'.format(item['@Q'])\n",
    "    item['@UPB'] = '{:.2f}'.format(item['@UPB'])\n",
    "    item['@UPA'] = '{:.2f}'.format(item['@UPA'])\n",
    "    item['@R'] = '{:.2f}'.format(item['@R'])\n",
    "    item['@PB'] = '{:.2f}'.format(item['@PB'])\n",
    "    item['@VR'] = '{:.2f}'.format(item['@VR'])\n",
    "    item['@VA'] = '{:.2f}'.format(item['@VA'])\n",
    "    item['@PA'] = '{:.2f}'.format(item['@PA'])\n",
    "\n",
    "for item in tx:\n",
    "    item['@VATRate'] = '{:.2f}'.format(item['@VATRate'])\n",
    "    item['@PriceBefVAT'] = '{:.2f}'.format(item['@PriceBefVAT'])\n",
    "    item['@VATAmt'] = '{:.2f}'.format(item['@VATAmt'])"
   ]
  },
  {
   "cell_type": "code",
   "execution_count": 13,
   "id": "c01cf375",
   "metadata": {},
   "outputs": [
    {
     "name": "stdout",
     "output_type": "stream",
     "text": [
      "<RegisterInvoiceRequest xmlns:xsd=\"http://www.w3.org/2001/XMLSchema\" xmlns:xsi=\"http://www.w3.org/2001/XMLSchema-instance\" xmlns=\"https://efi.tax.gov.me/fs/schema\" Id=\"Request\" Version=\"1\">\n",
      "  <Header SendDateTime=\"2021-10-13T14:22:13+02:00\" UUID=\"f223ea2c-eb26-4f61-a264-b8a47779e250\"/>\n",
      "  <Invoice BusinUnitCode=\"xx123xx123\" IssueDateTime=\"2021-10-13T14:22:13+02:00\" IIC=\"f108325b48e89a416d69a551f1c3ff34\" IICSignature=\"2fa646e3d77672efce0f72f948ac250c763de7289ab2c854d753b0275754d1c4f0404656f4f5f64d707742ce636355510f4d70271d7c0c31efc45cc1cc66cec894772a0fcaf89d2be5ea3c582394a2f49d8688ddc1be5a7a0b85874a1d55c30b6e64eb995684430e0dd33999b865f56b1599a3a268c11b1d9c044b33887e8fd00d1a9c0f82bdf4f2cf3789db3046de9ad9f09bb24aad537222f1cbe27594c64abca1ca4165d6b49d25814402ed8a157157551afb06320467d7e75f4e708bf2655f159179ff02e59e7ff6eff03aa00ef4a9b0853f793e931c55a7ad0157be66b727640013d5109b95d20d1b4a7200c7ffc8da0f664cfcd63df9416d33ed18ad0b\" InvNum=\"xx123xx123/1/2021/si747we972\" InvOrdNum=\"1\" IsIssuerInVAT=\"true\" IsReverseCharge=\"false\" InvType=\"INVOICE\" OperatorCode=\"oo123oo123\" SoftCode=\"ss123ss123\" TCRCode=\"si747we972\" TotPrice=\"17.15\" TotPriceWoVAT=\"14.17\" TotVATAmt=\"2.98\" TypeOfInv=\"NONCASH\">\n",
      "    <PayMethods>\n",
      "      <PayMethod Amt=\"17.15\" Type=\"ACCOUNT\"/>\n",
      "    </PayMethods>\n",
      "    <Seller IDType=\"TIN\" IDNum=\"12345678\" Name=\"Test d.o.o.\"/>\n",
      "    <Buyer IDType=\"TIN\" IDNum=\"12345678\" Name=\"Test d.o.o\"/>\n",
      "    <Items>\n",
      "      <I N=\"Test artikal\" C=\"1234234\" U=\"kom\" Q=\"1.00\" UPB=\"14.17\" UPA=\"17.15\" R=\"15.00\" RR=\"true\" PB=\"14.17\" VR=\"21.00\" VA=\"2.98\" PA=\"17.15\"/>\n",
      "    </Items>\n",
      "    <SameTaxes>\n",
      "      <SameTax VATRate=\"21.00\" NumOfItems=\"1\" PriceBefVAT=\"14.17\" VATAmt=\"2.98\"/>\n",
      "    </SameTaxes>\n",
      "  </Invoice>\n",
      "</RegisterInvoiceRequest>\n",
      "\n"
     ]
    }
   ],
   "source": [
    "# Formiranje dictionary objekta sa podacima za XML fajl\n",
    "xmldata = {\n",
    "    'RegisterInvoiceRequest': {\n",
    "        '@xmlns:xsd': 'http://www.w3.org/2001/XMLSchema',\n",
    "        '@xmlns:xsi': 'http://www.w3.org/2001/XMLSchema-instance',\n",
    "        '@xmlns': 'https://efi.tax.gov.me/fs/schema',\n",
    "        '@Id': 'Request',\n",
    "        '@Version': '1',\n",
    "        'Header': {\n",
    "            '@SendDateTime': current_time,\n",
    "            '@UUID': fresh_uuid            \n",
    "        },\n",
    "        'Invoice': {\n",
    "            '@BusinUnitCode': taxpayer['bu'],\n",
    "            '@IssueDateTime': current_time,\n",
    "            '@IIC': ikof,\n",
    "            '@IICSignature': iic,\n",
    "            '@InvNum': '{0}/{1}/{2}/{3}'.format(taxpayer['bu'], invoice['ord'], datetime.now().year, taxpayer['cr']),\n",
    "            '@InvOrdNum': invoice['ord'],\n",
    "            '@IsIssuerInVAT': 'true',\n",
    "            '@IsReverseCharge': 'false',\n",
    "            '@InvType': 'INVOICE',\n",
    "            '@OperatorCode': taxpayer['op'],\n",
    "            '@SoftCode': taxpayer['sw'],\n",
    "            '@TCRCode': taxpayer['cr'], # ENU code\n",
    "            '@TotPrice': \"%.2f\" % invoice_items[['PA']].sum()[0],\n",
    "            '@TotPriceWoVAT': \"%.2f\" % invoice_items[['PB']].sum()[0],\n",
    "            '@TotVATAmt': \"%.2f\" % invoice_items[['VA']].sum()[0],\n",
    "            '@TypeOfInv': 'NONCASH',\n",
    "            'PayMethods': {\n",
    "                'PayMethod': {\n",
    "                    '@Amt': \"%.2f\" % invoice_items[['PA']].sum()[0],\n",
    "                    '@Type': 'ACCOUNT'\n",
    "                }\n",
    "            },\n",
    "            'Seller': {\n",
    "                '@IDType': 'TIN',\n",
    "                '@IDNum': '12345678',\n",
    "                '@Name': 'Test d.o.o.'\n",
    "            },\n",
    "            'Buyer': {\n",
    "                '@IDType': 'TIN',\n",
    "                '@IDNum': '12345678',\n",
    "                '@Name': 'Test d.o.o'\n",
    "            },\n",
    "            'Items': {\n",
    "                'I': ii\n",
    "            },\n",
    "            'SameTaxes': {\n",
    "                'SameTax': tx\n",
    "            }\n",
    "        }\n",
    "    }\n",
    "}\n",
    "\n",
    "# Konverzija u XML format za parsiranje u etree objekat\n",
    "import xmltodict\n",
    "xml = xmltodict.unparse(xmldata)\n",
    "\n",
    "# etree ne voli encoding zapis, pa se on uklanja iz XML-a\n",
    "xml = xml.replace(' encoding=\"utf-8\"', '')\n",
    "\n",
    "from lxml import etree\n",
    "xml_obj = etree.fromstring(xml)\n",
    "\n",
    "print(etree.tostring(xml_obj, encoding='utf8', pretty_print=1).decode('utf8'))"
   ]
  },
  {
   "cell_type": "markdown",
   "id": "b38e429c",
   "metadata": {},
   "source": [
    "#### Potpisivanje"
   ]
  },
  {
   "cell_type": "code",
   "execution_count": 14,
   "id": "9460240d",
   "metadata": {},
   "outputs": [
    {
     "name": "stdout",
     "output_type": "stream",
     "text": [
      "<RegisterInvoiceRequest xmlns:xsd=\"http://www.w3.org/2001/XMLSchema\" xmlns:xsi=\"http://www.w3.org/2001/XMLSchema-instance\" xmlns=\"https://efi.tax.gov.me/fs/schema\" Id=\"Request\" Version=\"1\"><Header SendDateTime=\"2021-10-13T14:22:13+02:00\" UUID=\"f223ea2c-eb26-4f61-a264-b8a47779e250\"/><Invoice BusinUnitCode=\"xx123xx123\" IssueDateTime=\"2021-10-13T14:22:13+02:00\" IIC=\"f108325b48e89a416d69a551f1c3ff34\" IICSignature=\"2fa646e3d77672efce0f72f948ac250c763de7289ab2c854d753b0275754d1c4f0404656f4f5f64d707742ce636355510f4d70271d7c0c31efc45cc1cc66cec894772a0fcaf89d2be5ea3c582394a2f49d8688ddc1be5a7a0b85874a1d55c30b6e64eb995684430e0dd33999b865f56b1599a3a268c11b1d9c044b33887e8fd00d1a9c0f82bdf4f2cf3789db3046de9ad9f09bb24aad537222f1cbe27594c64abca1ca4165d6b49d25814402ed8a157157551afb06320467d7e75f4e708bf2655f159179ff02e59e7ff6eff03aa00ef4a9b0853f793e931c55a7ad0157be66b727640013d5109b95d20d1b4a7200c7ffc8da0f664cfcd63df9416d33ed18ad0b\" InvNum=\"xx123xx123/1/2021/si747we972\" InvOrdNum=\"1\" IsIssuerInVAT=\"true\" IsReverseCharge=\"false\" InvType=\"INVOICE\" OperatorCode=\"oo123oo123\" SoftCode=\"ss123ss123\" TCRCode=\"si747we972\" TotPrice=\"17.15\" TotPriceWoVAT=\"14.17\" TotVATAmt=\"2.98\" TypeOfInv=\"NONCASH\"><PayMethods><PayMethod Amt=\"17.15\" Type=\"ACCOUNT\"/></PayMethods><Seller IDType=\"TIN\" IDNum=\"12345678\" Name=\"Test d.o.o.\"/><Buyer IDType=\"TIN\" IDNum=\"12345678\" Name=\"Test d.o.o\"/><Items><I N=\"Test artikal\" C=\"1234234\" U=\"kom\" Q=\"1.00\" UPB=\"14.17\" UPA=\"17.15\" R=\"15.00\" RR=\"true\" PB=\"14.17\" VR=\"21.00\" VA=\"2.98\" PA=\"17.15\"/></Items><SameTaxes><SameTax VATRate=\"21.00\" NumOfItems=\"1\" PriceBefVAT=\"14.17\" VATAmt=\"2.98\"/></SameTaxes></Invoice><Signature xmlns=\"http://www.w3.org/2000/09/xmldsig#\"><SignedInfo><CanonicalizationMethod Algorithm=\"http://www.w3.org/2001/10/xml-exc-c14n#\"/><SignatureMethod Algorithm=\"http://www.w3.org/2001/04/xmldsig-more#rsa-sha256\"/><Reference URI=\"#Request\"><Transforms><Transform Algorithm=\"http://www.w3.org/2000/09/xmldsig#enveloped-signature\"/><Transform Algorithm=\"http://www.w3.org/2001/10/xml-exc-c14n#\"/></Transforms><DigestMethod Algorithm=\"http://www.w3.org/2001/04/xmlenc#sha256\"/><DigestValue>+xF2jjJtErYdDYYoVKcyGbaiAjzz8ynsH2AlL9+JCgs=</DigestValue></Reference></SignedInfo><SignatureValue>V8pnIcINwR+SuspuKPUdV5wvnJbsuy1P/vdDe8Xu5GkXzu1AnX6wOPKAzzHHfRNZFJo57Kb6ulGgD64PK0E1wAc6IyS4jcImsRQcTNVeQG6/qCkoI5zD8ctuIyMv5f2V5aVl0QD4mSkaUvZ+fkLw2thSJpfsuL8KtLl7aJCY7TyTeQYD2BpBxJq9CQRoVWg8gPWCGmm3BkSwDvsIrms6Iy0ckdF3zK150e+iDp6N6alZbwbE0iNO6wzb1OQ8fJ5IvPs6Z54NACihGcTp90hquS+Q9EmktO6lxnIAivOQkqIt+m7sXLJEidmcezWULdTJ1ZIG4O4rYSbJ6EdghStddQ==</SignatureValue><KeyInfo><X509Data><X509Certificate>MIIFoDCCBAigAwIBAgIIAosoHBIRrfUwDQYJKoZIhvcNAQELBQAwTzELMAkGA1UE\n",
      "BhMCTUUxDzANBgNVBAoMBkNvcmVpdDEXMBUGA1UEYQwOVkFUTUUtMDI3NzUwMTgx\n",
      "FjAUBgNVBAMMDUNvcmVpdCBTdWIgQ0EwHhcNMjAxMDA1MTIxNDQ3WhcNMjMxMDA1\n",
      "MTIxNDQ3WjCBmzELMAkGA1UEBhMCTUUxGjAYBgNVBAoMEVRlc3QgT25seSBDb21w\n",
      "YW55MRcwFQYDVQRhDA5WQVRNRS0xMjM0NTY3ODESMBAGA1UECwwJT3BlcmFjaWpl\n",
      "MQ4wDAYDVQQFEwUxMDAwMTEzMDEGA1UEAwwqVGVzdCBPbmx5IENvbXBhbnkgKFBl\n",
      "xI1hdC9BdXRlbnRpZmlrYWNpamEpMIIBIjANBgkqhkiG9w0BAQEFAAOCAQ8AMIIB\n",
      "CgKCAQEAqzK8vMGchz7qc5K7eqvLy3kMIO7omEv406wLU+vIMIeusmwebrVYCd03\n",
      "EdMrI6ktDFiUuQbD1Ze0+oxpBLT9iFpB3njTf+z2phI5BNkEseHGxc0BrT8S2DTG\n",
      "qO13xAYwcqViK6cARfpgzpRB6B1HLVKmW5PwlwNQlmXuM61bQqyaPLrToNex+drV\n",
      "ybO9r2zLQzY5ztNV5F1Uy/pQnggZt2qRyFO71cW/D7+Vc1d14DGG4gy3TmW36BQK\n",
      "3zSGBy11psNLLsNDPl14JaqrKZgKv9o6M9+qZ0yb08HHoURkR91XsbJ0YnUZJy+D\n",
      "jy6rya7iqqN5y5MIc9qfdul7HI/FuQIDAQABo4IBsTCCAa0wDAYDVR0TAQH/BAIw\n",
      "ADAfBgNVHSMEGDAWgBRS3xfznifJOu61Gx/QkwDS8wtU/jBxBggrBgEFBQcBAQRl\n",
      "MGMwLwYIKwYBBQUHMAKGI2h0dHA6Ly9jYS5jb3JlaXQubWUvQ29yZWl0U3ViQ0Eu\n",
      "Y2VyMDAGCCsGAQUFBzABhiRodHRwOi8vb2NzcC5jYS5jb3JlaXQubWUvQ29yZWl0\n",
      "U3ViQ0EwQgYDVR0gBDswOTA3Bg0rBgEEAYOjKQEBAgIBMCYwJAYIKwYBBQUHAgEW\n",
      "GGh0dHA6Ly9jYS5jb3JlaXQubWUvY3BzLzBcBggrBgEFBQcBAwRQME4wCAYGBACO\n",
      "RgEBMBMGBgQAjkYBBjAJBgcEAI5GAQYCMC0GBgQAjkYBBTAjMCEWG2h0dHBzOi8v\n",
      "Y2EuY29yZWl0Lm1lL3Bkcy9lbhMCZW4wOAYDVR0fBDEwLzAtoCugKYYnaHR0cDov\n",
      "L2NybC5jYS5jb3JlaXQubWUvQ29yZWl0U3ViQ0EuY3JsMB0GA1UdDgQWBBSLBPEd\n",
      "crmjuxuatJAJ3dUzJmzzbjAOBgNVHQ8BAf8EBAMCBsAwDQYJKoZIhvcNAQELBQAD\n",
      "ggGBACp0Yi52FnYapjzVv//lC17uU6EKrIomCs1QUQSQE7zXrz4pBgnB3v4mNS1g\n",
      "0EzFtzfkIspjQex1Y8D/SdgtFrVmwfmUhsI/GLtr1VvlSVTMdRoekGDHS8J89wna\n",
      "rebV3pxfIFpmKw3iqQwIQXur5gXCRojPehJoAg3J/YhA1XT6D0aEYJVhRjIuSqee\n",
      "c/G7XIDKnr8sOy+iOBaHVjvnQ5cYmXgVyslDuWFZ7N5mRrWYreXX+WaOAQf1+zEq\n",
      "BsRwZp7jAU62dmI4D4C/FqrANhOby6FKOjCylX7VrF3igZyQ+KHVETSxqJXMTyQ9\n",
      "uBRZ/G+lubDfjGVlcwznQLPpo3VFpExIvS8Ne/5M1KJjBcVhzc2lPC5ObIyu+Tex\n",
      "IYNvuj2FwRs9xLGAwkO0LMJNfjYPItWhBoHZej3SUScgBGtI6p9n8xFrMly93tAJ\n",
      "+GhBX4Wncz3TAUhkhH8jPvJUJVYil1QGToOCBIp/XD76BbF67Q/DStDSCeU68CqS\n",
      "oTQLMw==\n",
      "</X509Certificate></X509Data></KeyInfo></Signature></RegisterInvoiceRequest>\n"
     ]
    }
   ],
   "source": [
    "from lxml import etree\n",
    "from signxml import XMLSigner, XMLVerifier, methods\n",
    "\n",
    "cert = open(\"coreit_cert.pem\", 'rb').read()\n",
    "key = open(\"coreit.key\", 'rb').read()\n",
    "\n",
    "signer = XMLSigner(\n",
    "    method = methods.enveloped,\n",
    "    signature_algorithm = 'rsa-sha256',\n",
    "    digest_algorithm = 'sha256',\n",
    "    c14n_algorithm = 'http://www.w3.org/2001/10/xml-exc-c14n#'\n",
    ")\n",
    "\n",
    "# Uklanjanje suvisnih DS namespace prefix-a\n",
    "ns = {}\n",
    "ns[None] = signer.namespaces['ds']\n",
    "signer.namespaces = ns\n",
    "\n",
    "# Konacno potpisivanje\n",
    "signed_xml = signer.sign(\n",
    "    xml_obj, \n",
    "    key=key,\n",
    "    cert=cert\n",
    ")\n",
    "\n",
    "print(etree.tostring(signed_xml, encoding='utf8').decode('utf8'))"
   ]
  },
  {
   "cell_type": "markdown",
   "id": "0fd9a198",
   "metadata": {},
   "source": [
    "#### Formiranje SOAP zahtjeva"
   ]
  },
  {
   "cell_type": "code",
   "execution_count": 15,
   "id": "ac7b77a7",
   "metadata": {
    "scrolled": false
   },
   "outputs": [
    {
     "name": "stdout",
     "output_type": "stream",
     "text": [
      "<SOAP-ENV:Envelope xmlns:SOAP-ENV=\"http://schemas.xmlsoap.org/soap/envelope/\"><SOAP-ENV:Header/><SOAP-ENV:Body><RegisterInvoiceRequest xmlns:xsd=\"http://www.w3.org/2001/XMLSchema\" xmlns:xsi=\"http://www.w3.org/2001/XMLSchema-instance\" xmlns=\"https://efi.tax.gov.me/fs/schema\" Id=\"Request\" Version=\"1\"><Header SendDateTime=\"2021-10-13T14:22:13+02:00\" UUID=\"f223ea2c-eb26-4f61-a264-b8a47779e250\"/><Invoice BusinUnitCode=\"xx123xx123\" IssueDateTime=\"2021-10-13T14:22:13+02:00\" IIC=\"f108325b48e89a416d69a551f1c3ff34\" IICSignature=\"2fa646e3d77672efce0f72f948ac250c763de7289ab2c854d753b0275754d1c4f0404656f4f5f64d707742ce636355510f4d70271d7c0c31efc45cc1cc66cec894772a0fcaf89d2be5ea3c582394a2f49d8688ddc1be5a7a0b85874a1d55c30b6e64eb995684430e0dd33999b865f56b1599a3a268c11b1d9c044b33887e8fd00d1a9c0f82bdf4f2cf3789db3046de9ad9f09bb24aad537222f1cbe27594c64abca1ca4165d6b49d25814402ed8a157157551afb06320467d7e75f4e708bf2655f159179ff02e59e7ff6eff03aa00ef4a9b0853f793e931c55a7ad0157be66b727640013d5109b95d20d1b4a7200c7ffc8da0f664cfcd63df9416d33ed18ad0b\" InvNum=\"xx123xx123/1/2021/si747we972\" InvOrdNum=\"1\" IsIssuerInVAT=\"true\" IsReverseCharge=\"false\" InvType=\"INVOICE\" OperatorCode=\"oo123oo123\" SoftCode=\"ss123ss123\" TCRCode=\"si747we972\" TotPrice=\"17.15\" TotPriceWoVAT=\"14.17\" TotVATAmt=\"2.98\" TypeOfInv=\"NONCASH\"><PayMethods><PayMethod Amt=\"17.15\" Type=\"ACCOUNT\"/></PayMethods><Seller IDType=\"TIN\" IDNum=\"12345678\" Name=\"Test d.o.o.\"/><Buyer IDType=\"TIN\" IDNum=\"12345678\" Name=\"Test d.o.o\"/><Items><I N=\"Test artikal\" C=\"1234234\" U=\"kom\" Q=\"1.00\" UPB=\"14.17\" UPA=\"17.15\" R=\"15.00\" RR=\"true\" PB=\"14.17\" VR=\"21.00\" VA=\"2.98\" PA=\"17.15\"/></Items><SameTaxes><SameTax VATRate=\"21.00\" NumOfItems=\"1\" PriceBefVAT=\"14.17\" VATAmt=\"2.98\"/></SameTaxes></Invoice><Signature xmlns=\"http://www.w3.org/2000/09/xmldsig#\"><SignedInfo><CanonicalizationMethod Algorithm=\"http://www.w3.org/2001/10/xml-exc-c14n#\"/><SignatureMethod Algorithm=\"http://www.w3.org/2001/04/xmldsig-more#rsa-sha256\"/><Reference URI=\"#Request\"><Transforms><Transform Algorithm=\"http://www.w3.org/2000/09/xmldsig#enveloped-signature\"/><Transform Algorithm=\"http://www.w3.org/2001/10/xml-exc-c14n#\"/></Transforms><DigestMethod Algorithm=\"http://www.w3.org/2001/04/xmlenc#sha256\"/><DigestValue>+xF2jjJtErYdDYYoVKcyGbaiAjzz8ynsH2AlL9+JCgs=</DigestValue></Reference></SignedInfo><SignatureValue>V8pnIcINwR+SuspuKPUdV5wvnJbsuy1P/vdDe8Xu5GkXzu1AnX6wOPKAzzHHfRNZFJo57Kb6ulGgD64PK0E1wAc6IyS4jcImsRQcTNVeQG6/qCkoI5zD8ctuIyMv5f2V5aVl0QD4mSkaUvZ+fkLw2thSJpfsuL8KtLl7aJCY7TyTeQYD2BpBxJq9CQRoVWg8gPWCGmm3BkSwDvsIrms6Iy0ckdF3zK150e+iDp6N6alZbwbE0iNO6wzb1OQ8fJ5IvPs6Z54NACihGcTp90hquS+Q9EmktO6lxnIAivOQkqIt+m7sXLJEidmcezWULdTJ1ZIG4O4rYSbJ6EdghStddQ==</SignatureValue><KeyInfo><X509Data><X509Certificate>MIIFoDCCBAigAwIBAgIIAosoHBIRrfUwDQYJKoZIhvcNAQELBQAwTzELMAkGA1UE\n",
      "BhMCTUUxDzANBgNVBAoMBkNvcmVpdDEXMBUGA1UEYQwOVkFUTUUtMDI3NzUwMTgx\n",
      "FjAUBgNVBAMMDUNvcmVpdCBTdWIgQ0EwHhcNMjAxMDA1MTIxNDQ3WhcNMjMxMDA1\n",
      "MTIxNDQ3WjCBmzELMAkGA1UEBhMCTUUxGjAYBgNVBAoMEVRlc3QgT25seSBDb21w\n",
      "YW55MRcwFQYDVQRhDA5WQVRNRS0xMjM0NTY3ODESMBAGA1UECwwJT3BlcmFjaWpl\n",
      "MQ4wDAYDVQQFEwUxMDAwMTEzMDEGA1UEAwwqVGVzdCBPbmx5IENvbXBhbnkgKFBl\n",
      "xI1hdC9BdXRlbnRpZmlrYWNpamEpMIIBIjANBgkqhkiG9w0BAQEFAAOCAQ8AMIIB\n",
      "CgKCAQEAqzK8vMGchz7qc5K7eqvLy3kMIO7omEv406wLU+vIMIeusmwebrVYCd03\n",
      "EdMrI6ktDFiUuQbD1Ze0+oxpBLT9iFpB3njTf+z2phI5BNkEseHGxc0BrT8S2DTG\n",
      "qO13xAYwcqViK6cARfpgzpRB6B1HLVKmW5PwlwNQlmXuM61bQqyaPLrToNex+drV\n",
      "ybO9r2zLQzY5ztNV5F1Uy/pQnggZt2qRyFO71cW/D7+Vc1d14DGG4gy3TmW36BQK\n",
      "3zSGBy11psNLLsNDPl14JaqrKZgKv9o6M9+qZ0yb08HHoURkR91XsbJ0YnUZJy+D\n",
      "jy6rya7iqqN5y5MIc9qfdul7HI/FuQIDAQABo4IBsTCCAa0wDAYDVR0TAQH/BAIw\n",
      "ADAfBgNVHSMEGDAWgBRS3xfznifJOu61Gx/QkwDS8wtU/jBxBggrBgEFBQcBAQRl\n",
      "MGMwLwYIKwYBBQUHMAKGI2h0dHA6Ly9jYS5jb3JlaXQubWUvQ29yZWl0U3ViQ0Eu\n",
      "Y2VyMDAGCCsGAQUFBzABhiRodHRwOi8vb2NzcC5jYS5jb3JlaXQubWUvQ29yZWl0\n",
      "U3ViQ0EwQgYDVR0gBDswOTA3Bg0rBgEEAYOjKQEBAgIBMCYwJAYIKwYBBQUHAgEW\n",
      "GGh0dHA6Ly9jYS5jb3JlaXQubWUvY3BzLzBcBggrBgEFBQcBAwRQME4wCAYGBACO\n",
      "RgEBMBMGBgQAjkYBBjAJBgcEAI5GAQYCMC0GBgQAjkYBBTAjMCEWG2h0dHBzOi8v\n",
      "Y2EuY29yZWl0Lm1lL3Bkcy9lbhMCZW4wOAYDVR0fBDEwLzAtoCugKYYnaHR0cDov\n",
      "L2NybC5jYS5jb3JlaXQubWUvQ29yZWl0U3ViQ0EuY3JsMB0GA1UdDgQWBBSLBPEd\n",
      "crmjuxuatJAJ3dUzJmzzbjAOBgNVHQ8BAf8EBAMCBsAwDQYJKoZIhvcNAQELBQAD\n",
      "ggGBACp0Yi52FnYapjzVv//lC17uU6EKrIomCs1QUQSQE7zXrz4pBgnB3v4mNS1g\n",
      "0EzFtzfkIspjQex1Y8D/SdgtFrVmwfmUhsI/GLtr1VvlSVTMdRoekGDHS8J89wna\n",
      "rebV3pxfIFpmKw3iqQwIQXur5gXCRojPehJoAg3J/YhA1XT6D0aEYJVhRjIuSqee\n",
      "c/G7XIDKnr8sOy+iOBaHVjvnQ5cYmXgVyslDuWFZ7N5mRrWYreXX+WaOAQf1+zEq\n",
      "BsRwZp7jAU62dmI4D4C/FqrANhOby6FKOjCylX7VrF3igZyQ+KHVETSxqJXMTyQ9\n",
      "uBRZ/G+lubDfjGVlcwznQLPpo3VFpExIvS8Ne/5M1KJjBcVhzc2lPC5ObIyu+Tex\n",
      "IYNvuj2FwRs9xLGAwkO0LMJNfjYPItWhBoHZej3SUScgBGtI6p9n8xFrMly93tAJ\n",
      "+GhBX4Wncz3TAUhkhH8jPvJUJVYil1QGToOCBIp/XD76BbF67Q/DStDSCeU68CqS\n",
      "oTQLMw==\n",
      "</X509Certificate></X509Data></KeyInfo></Signature></RegisterInvoiceRequest></SOAP-ENV:Body></SOAP-ENV:Envelope>\n"
     ]
    }
   ],
   "source": [
    "soap_ns = 'http://schemas.xmlsoap.org/soap/envelope/'\n",
    "ns_map = {'SOAP-ENV': soap_ns}\n",
    "\n",
    "envelope = etree.Element(etree.QName(soap_ns, 'Envelope'), nsmap=ns_map)\n",
    "header = etree.SubElement(envelope, etree.QName(soap_ns, 'Header'), nsmap=ns_map)\n",
    "body = etree.SubElement(envelope, etree.QName(soap_ns, 'Body'), nsmap=ns_map)\n",
    "\n",
    "reg_invoice_req = body.append(signed_xml)\n",
    "#soap_request = etree.tostring(envelope, encoding='utf8', pretty_print=1)\n",
    "soap_request = etree.tostring(envelope, encoding='utf8')\n",
    "\n",
    "print(soap_request.decode('utf8'))"
   ]
  },
  {
   "cell_type": "markdown",
   "id": "09afe1d0",
   "metadata": {},
   "source": [
    "### Slanje SOAP zahtjeva"
   ]
  },
  {
   "cell_type": "code",
   "execution_count": 16,
   "id": "15e2ed9b",
   "metadata": {},
   "outputs": [
    {
     "name": "stdout",
     "output_type": "stream",
     "text": [
      "<env:Envelope xmlns:env=\"http://schemas.xmlsoap.org/soap/envelope/\">\n",
      "  <env:Header/>\n",
      "  <env:Body>\n",
      "    <RegisterInvoiceResponse xmlns=\"https://efi.tax.gov.me/fs/schema\" xmlns:ns0=\"http://www.w3.org/2000/09/xmldsig#\" Id=\"Response\" Version=\"1\">\n",
      "      <Header xmlns=\"https://efi.tax.gov.me/fs/schema\" UUID=\"3bd2fcc3-7678-44c3-8719-583bdd75482c\" RequestUUID=\"f223ea2c-eb26-4f61-a264-b8a47779e250\" SendDateTime=\"2021-10-13T14:22:14+02:00\"/>\n",
      "      <FIC xmlns=\"https://efi.tax.gov.me/fs/schema\">d5e3fa77-d820-44e5-9434-04be185a93b9</FIC>\n",
      "      <Signature xmlns=\"http://www.w3.org/2000/09/xmldsig#\">\n",
      "        <SignedInfo>\n",
      "          <CanonicalizationMethod Algorithm=\"http://www.w3.org/2001/10/xml-exc-c14n#\"/>\n",
      "          <SignatureMethod Algorithm=\"http://www.w3.org/2001/04/xmldsig-more#rsa-sha256\"/>\n",
      "          <Reference URI=\"#Response\">\n",
      "            <Transforms>\n",
      "              <Transform Algorithm=\"http://www.w3.org/2000/09/xmldsig#enveloped-signature\"/>\n",
      "              <Transform Algorithm=\"http://www.w3.org/2001/10/xml-exc-c14n#\"/>\n",
      "            </Transforms>\n",
      "            <DigestMethod Algorithm=\"http://www.w3.org/2001/04/xmlenc#sha256\"/>\n",
      "            <DigestValue>mvFIK5uIBLW2aM9bW+j90PE8wm1ea7Vj+221ha9mh+g=</DigestValue>\n",
      "          </Reference>\n",
      "        </SignedInfo>\n",
      "        <SignatureValue>OCHBj4d8F9SXuysLfzY62F7ArTXBZA5HsbDsxuT8INUl4fBVbQwIjQEnrwsGTAnObnTfOf7qm/cZ\n",
      "ChGquNOEv+/188xcrYmTYOqzMURtUM1Ox1eCQjgQtLpR29pnwglKN6O3y0dLWpvbr2SbbTSYNTsz\n",
      "gfGeKQMu2DhKOcSWUxZrFrAHO168PzRFwCorjXXlzoMt80TXlSpdKzEH0GMjGKJYFa5evpvDtgyc\n",
      "t0xswYL/YN6OmUq2RmH43Yxyns1EDgP0bGWJ7vendsTjNPiwebRxu+DncnNrcsbAgmXadDlNP8Kp\n",
      "WJ3+UeDvRg9ioe0nvolA7JPsWKOw4dnm4e+e+w==</SignatureValue>\n",
      "        <KeyInfo>\n",
      "          <X509Data>\n",
      "            <X509Certificate>MIIHVjCCBb6gAwIBAgIEXQLgzjANBgkqhkiG9w0BAQsFADA0MQswCQYDVQQGEwJtZTEQMA4GA1UE\n",
      "ChMHUG9zdGFDRzETMBEGA1UEAxMKUG9zdGFDRyBDQTAeFw0yMDA4MjYwOTM0MjlaFw0yMzA4MjYx\n",
      "MDA0MjlaMHoxCzAJBgNVBAYTAk1FMRQwEgYDVQQLEwtQcmF2bm8gbGljZTEuMBUGA1UEChMOUG9y\n",
      "ZXNrYSB1cHJhdmEwFQYDVQRhEw5WQVRNRS0xMTA0NDc2MDElMAwGA1UEBRMFNDA2MTkwFQYDVQQD\n",
      "Ew5Qb3Jlc2thIHVwcmF2YTCCASIwDQYJKoZIhvcNAQEBBQADggEPADCCAQoCggEBAK1fDZf0sLP8\n",
      "iU9yguE6aEgBenAYXwGXHlRXpvWC6Ll68GJylxLB0JuFyaMKq5vAGIsg/mv5hFIB223TZxJqoA4W\n",
      "HR30gNuvOIUiKkWaTAJcZPaaxOEcyEMqgzWPKYrfCSG8Xk6/pd/afwrwWPT0+xuFL3olUaJgRdqG\n",
      "6jGy0e/x7XxM80SztMHrnY5gAwShxQ2YhYsgcv3O+/9IEhO5rS8/OhoXY0zqDr4xYEDUF7SCMRUi\n",
      "jRMFZa0UMd06akr6StsPxXNIeDBs7daSwgxXEDyi5g1DnPrLdYl9HdqB82/oMQ/M31injxuGo6eg\n",
      "sUdT9C2lOkgpIY9h5wme2RSrvbUCAwEAAaOCA6gwggOkMA4GA1UdDwEB/wQEAwIGwDBGBgNVHSAE\n",
      "PzA9MDsGDCsGAQQBgp8BAQYBAjArMCkGCCsGAQUFBwIBFh1odHRwOi8vd3d3LnBvc3RhY2ctY2Eu\n",
      "bWUvY3BzLzCBsgYIKwYBBQUHAQMEgaUwgaIwCAYGBACORgEBMIGABgYEAI5GAQUwdjA5FjNodHRw\n",
      "czovL3d3dy5wb3N0YWNnLWNhLm1lL2Nwcy9wb3N0YWNnLWNhX3Bkc19lbi5wZGYTAmVuMDkWM2h0\n",
      "dHBzOi8vd3d3LnBvc3RhY2ctY2EubWUvY3BzL3Bvc3RhY2ctY2FfcGRzX3NyLnBkZhMCc3IwEwYG\n",
      "BACORgEGMAkGBwQAjkYBBgIwTgYIKwYBBQUHAQEEQjBAMD4GCCsGAQUFBzAChjJodHRwOi8vd3d3\n",
      "LnBvc3RhY2ctY2EubWUvY2VyL1Bvc3RhQ0ctQ0FfY2FjZXJ0LmNlcjCBgAYDVR0SBHkwd6R1MHMx\n",
      "CzAJBgNVBAYTAk1FMTYwNAYDVQQKEy1QT1NUQSBDUk5FIEdPUkUgQUtDSU9OQVJTS08gRFJVU1RW\n",
      "TyBQT0RHT1JJQ0ExFzAVBgNVBGETDlZBVE1FLTAyODY3OTQwMRMwEQYDVQQDEwpQb3N0YUNHIENB\n",
      "MD0GA1UdEQQ2MDSBHHZlc2VsaW4uam92aWNldmljQHRheC5nb3YubWWBFHBvcmVza2F1cHJhdmFA\n",
      "Z292Lm1lMIIBQQYDVR0fBIIBODCCATQwTKBKoEikRjBEMQswCQYDVQQGEwJtZTEQMA4GA1UEChMH\n",
      "UG9zdGFDRzETMBEGA1UEAxMKUG9zdGFDRyBDQTEOMAwGA1UEAxMFQ1JMNDIwgeOggeCggd2GW2xk\n",
      "YXA6Ly9sZGFwLnBvc3RhY2ctY2EubWUvY249UG9zdGFDRyUyMENBLG89UG9zdGFDRyxjPW1lP2Nl\n",
      "cnRpZmljYXRlUmV2b2NhdGlvbkxpc3QlM0JiaW5hcnmGPmh0dHA6Ly9laWQucG9zdGFjZy1jYS5t\n",
      "ZS9jcmwvcG9zdGFjZ19jYV9wb3N0YWNnX21lX2NybGZpbGUuY3Jshj5odHRwOi8vd3d3LnBvc3Rh\n",
      "Y2ctY2EubWUvY3JsL3Bvc3RhY2dfY2FfcG9zdGFjZ19tZV9jcmxmaWxlLmNybDAfBgNVHSMEGDAW\n",
      "gBR3Y0xYMrlU0RoJ93Quq6uNPKoq8TAdBgNVHQ4EFgQUFjnokiRtOybrNf+mrU3dzvW6fYkwDQYJ\n",
      "KoZIhvcNAQELBQADggGBALdkMCpx6vKKPj+x3chOvZeoS4s5Yc7LxQdUMHKk1v7f6ff5FmtNKbl3\n",
      "mez9ipRkmfakN4+yrrHSW1AJI754TkeX6f7sB+dtXxML5VuFX3jSY+bA/ctnuz2sKKwKGx7zAcuB\n",
      "eI7OErqwLFLMyGMgo9GWSUX11hEAzjaNKX0pGkccrJ8eh0cvUmsVIGqskr0aqxrzS2l8b4qEWJlx\n",
      "orhHFzTtkSkIMR+Q7mYLBJx4FnJRJt3EQTYcmKnf/sBx9ZoqXfqPdT1Gf+Tl6Nwy4hGcRnViAggF\n",
      "OFHEP53EN26Xqhs79crpElIQ6sYlLakUkr5dfnozsDOhWisty/dgmewzSwFRiApKrYRnP3luD4Vo\n",
      "tyzkSxPWJKMyWuoko119/Oz2K1JlXAL+euBvfj2rdZqWfMDn1mOTboz9N/jmti7A7PeOvtzSq60u\n",
      "plw9IVQUDIGI2+KmxkNzu1ISGOAmzZxCEAG8Cc6GVK6JVHPvy4DyCUPNFSt4ekfv+VktqLPXH/Tf\n",
      "hg==</X509Certificate>\n",
      "          </X509Data>\n",
      "        </KeyInfo>\n",
      "      </Signature>\n",
      "    </RegisterInvoiceResponse>\n",
      "  </env:Body>\n",
      "</env:Envelope>\n",
      "\n"
     ]
    }
   ],
   "source": [
    "import requests\n",
    "import urllib3\n",
    "\n",
    "urllib3.disable_warnings(urllib3.exceptions.InsecureRequestWarning)\n",
    "efi_url = 'https://efitest.tax.gov.me:443/fs-v1'\n",
    "# efi_url = 'https://efi.tax.gov.me/fs-v1'\n",
    "\n",
    "headers = {'content-type': 'text/xml'}\n",
    "\n",
    "response = requests.post(efi_url, data=soap_request,headers=headers, verify=False)\n",
    "xml_response = etree.fromstring(response.content)\n",
    "\n",
    "print(etree.tostring(xml_response, encoding='utf8', pretty_print=1).decode('utf8'))"
   ]
  },
  {
   "cell_type": "markdown",
   "id": "450dcf99",
   "metadata": {},
   "source": [
    "### I, najzad, FIC (JIKR) je"
   ]
  },
  {
   "cell_type": "code",
   "execution_count": 17,
   "id": "76741727",
   "metadata": {},
   "outputs": [
    {
     "data": {
      "text/plain": [
       "'d5e3fa77-d820-44e5-9434-04be185a93b9'"
      ]
     },
     "execution_count": 17,
     "metadata": {},
     "output_type": "execute_result"
    }
   ],
   "source": [
    "fic = xml_response.find('.//{https://efi.tax.gov.me/fs/schema}FIC')\n",
    "fic.text"
   ]
  },
  {
   "cell_type": "markdown",
   "id": "d1f2632d",
   "metadata": {},
   "source": [
    "### Generisanje Link-a"
   ]
  },
  {
   "cell_type": "code",
   "execution_count": 18,
   "id": "54a0a256",
   "metadata": {},
   "outputs": [
    {
     "name": "stdout",
     "output_type": "stream",
     "text": [
      "URL: https://efitest.tax.gov.me/ic/#/verify?iic=f108325b48e89a416d69a551f1c3ff34&tin=12345678&crtd=2021-10-13T14:22:13+02:00&ord=1&bu=xx123xx123&cr=si747we972&sw=ss123ss123&prc=17.15\n"
     ]
    }
   ],
   "source": [
    "url = 'https://efitest.tax.gov.me/ic/#/verify?iic={iic}&tin={tin}&crtd={crtd}&ord={ord}&bu={bu}&cr={cr}&sw={sw}&prc={prc}'\n",
    "# url = 'https://mapr.tax.gov.me/ic/#/verify?iic={iic}&tin={tin}&crtd={crtd}&ord={ord}&bu={bu}&cr={cr}&sw={sw}&prc={prc}'\n",
    "url = url.format(\n",
    "    iic = ikof,\n",
    "    tin = taxpayer['tin'],\n",
    "    crtd = current_time,\n",
    "    ord = invoice['ord'],\n",
    "    bu = taxpayer['bu'],\n",
    "    cr = taxpayer['cr'],\n",
    "    sw = taxpayer['sw'],\n",
    "    prc = invoice['prc']\n",
    ")\n",
    "print('URL:', url)"
   ]
  },
  {
   "cell_type": "markdown",
   "id": "218ab872",
   "metadata": {},
   "source": [
    "### Generisanje QR kod-a"
   ]
  },
  {
   "cell_type": "code",
   "execution_count": 19,
   "id": "ef220b6e",
   "metadata": {},
   "outputs": [
    {
     "data": {
      "image/png": "[encoded data removed]",
      "text/plain": [
       "<IPython.core.display.Image object>"
      ]
     },
     "execution_count": 19,
     "metadata": {},
     "output_type": "execute_result"
    }
   ],
   "source": [
    "import qrcode\n",
    "from IPython.display import Image \n",
    "\n",
    "qr = qrcode.QRCode(version=1, box_size=5, border=0)\n",
    "qr.add_data(url)\n",
    "qr.make(fit=True)\n",
    "\n",
    "img = qr.make_image(fill='black', back_color='white')\n",
    "qr_filename = 'qr-{0}.png'.format(ikof)\n",
    "img.save(qr_filename)\n",
    "\n",
    "Image(qr_filename)"
   ]
  }
 ],
 "metadata": {
  "kernelspec": {
   "display_name": "Python 3 (ipykernel)",
   "language": "python",
   "name": "python3"
  },
  "language_info": {
   "codemirror_mode": {
    "name": "ipython",
    "version": 3
   },
   "file_extension": ".py",
   "mimetype": "text/x-python",
   "name": "python",
   "nbconvert_exporter": "python",
   "pygments_lexer": "ipython3",
   "version": "3.7.11"
  }
 },
 "nbformat": 4,
 "nbformat_minor": 5
}
